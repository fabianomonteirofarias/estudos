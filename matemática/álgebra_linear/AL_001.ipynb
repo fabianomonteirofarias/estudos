{
 "cells": [
  {
   "cell_type": "markdown",
   "id": "abfb41f4",
   "metadata": {},
   "source": [
    "<b>Estudante:</b> FABIANO MONTEIRO FARIAS \\\n",
    "<b>Conteúdo:</b> ÁLGEBRA LINEAR \\\n",
    "<b>Aula:</b> 01 - MATRIZES: DEFINIÇÃO, CARACTERíSTICAS E CLASSIFICAÇÃO \\\n",
    "<b>Ano:</b> 2022"
   ]
  },
  {
   "cell_type": "markdown",
   "id": "421ba5a8",
   "metadata": {},
   "source": [
    "Estudo realizado a partir do canal: \n",
    "* [UNIVESP](https://www.youtube.com/playlist?list=PLxI8Can9yAHdUtWDKtTA9AmuICNyX9EIr)\n",
    "\n",
    "Pré-requisitos:\n",
    "* Python básico"
   ]
  },
  {
   "cell_type": "markdown",
   "id": "82cbf3b3",
   "metadata": {},
   "source": [
    "# Matrizes"
   ]
  },
  {
   "cell_type": "markdown",
   "id": "73059ab6",
   "metadata": {
    "heading_collapsed": true
   },
   "source": [
    "## 0. Úteis"
   ]
  },
  {
   "cell_type": "markdown",
   "id": "e9fafb72",
   "metadata": {
    "hidden": true
   },
   "source": [
    "*Aqui ficam as listas, funções ou bibliotecas que iremos utilizar durante a aula. Comece os estudos pelo índice 1, pois aqui contém apenas informações que serão utilizados durante toda aula.*"
   ]
  },
  {
   "cell_type": "markdown",
   "id": "53662670",
   "metadata": {
    "heading_collapsed": true,
    "hidden": true
   },
   "source": [
    "### Informações de cada Lista"
   ]
  },
  {
   "cell_type": "markdown",
   "id": "468fc1ad",
   "metadata": {
    "hidden": true
   },
   "source": [
    "Listas para testar as funções criadas:"
   ]
  },
  {
   "cell_type": "code",
   "execution_count": 13,
   "id": "4641c25d",
   "metadata": {
    "hidden": true
   },
   "outputs": [],
   "source": [
    "teste1 = [\n",
    "    # matrizes\n",
    "    [[1]],\n",
    "    [[1], [2]],\n",
    "\n",
    "    [[1,2]],\n",
    "    [[1,2],[3,4]],\n",
    "    \n",
    "    [[1,2,3]],\n",
    "    [[1,2,3],[4,5,6]],\n",
    "    [[1,2,3], [4,5,6], [7,8,9]],\n",
    "    \n",
    "    # apenas listas\n",
    "    [[1], [2, 3]],\n",
    "    [[1,2], [3]],\n",
    "    \n",
    "    [[1,2],[3,4,5],[6,7,8]],\n",
    "    [[1,2,3],[4,5],[6,7,8]],\n",
    "    [[1,2,3],[4,5,6],[7,8]] \n",
    "]\n"
   ]
  },
  {
   "cell_type": "markdown",
   "id": "ff99704f",
   "metadata": {
    "heading_collapsed": true,
    "hidden": true
   },
   "source": [
    "#### Listas que representam uma Matriz"
   ]
  },
  {
   "cell_type": "markdown",
   "id": "9bff1e91",
   "metadata": {
    "hidden": true
   },
   "source": [
    "$$\n",
    "\\begin{bmatrix}\n",
    "1\n",
    "\\end{bmatrix}\n",
    "$$\n",
    "Características:\n",
    "- Quantidade de Linhas: 1\n",
    "- Quantidade de Colunas: 1\n",
    "- Ordem: 1x1\n",
    "- Unitária"
   ]
  },
  {
   "cell_type": "markdown",
   "id": "7b3f53ad",
   "metadata": {
    "hidden": true
   },
   "source": [
    "$$\n",
    "\\begin{bmatrix}\n",
    "1 \\cr\n",
    "2\n",
    "\\end{bmatrix}\n",
    "$$\n",
    "\n",
    "Características:\n",
    "- Quantidade de Linhas: 2\n",
    "- Quantidade de Colunas: 1\n",
    "- Ordem: 2x1\n",
    "- Coluna"
   ]
  },
  {
   "cell_type": "markdown",
   "id": "f59b79e6",
   "metadata": {
    "hidden": true
   },
   "source": [
    "$$\n",
    "\\begin{bmatrix}\n",
    "1 & 2\n",
    "\\end{bmatrix}\n",
    "$$\n",
    "\n",
    "Características:\n",
    "- Quantidade de Linhas: 1\n",
    "- Quantidade de Colunas: 2\n",
    "- Ordem: 1x2\n",
    "- Linha"
   ]
  },
  {
   "cell_type": "markdown",
   "id": "0e395e85",
   "metadata": {
    "hidden": true
   },
   "source": [
    "$$\n",
    "\\begin{bmatrix}\n",
    "1 & 2 \\cr\n",
    "3 & 4\n",
    "\\end{bmatrix}\n",
    "$$\n",
    "\n",
    "Características:\n",
    "- Quantidade de Linhas: 2\n",
    "- Quantidade de Colunas: 2\n",
    "- Ordem: 2x2"
   ]
  },
  {
   "cell_type": "markdown",
   "id": "0994a486",
   "metadata": {
    "hidden": true
   },
   "source": [
    "$$\n",
    "\\begin{bmatrix}\n",
    "1 & 2 & 3\n",
    "\\end{bmatrix}\n",
    "$$\n",
    "\n",
    "Características:\n",
    "- Quantidade de Linhas: 1\n",
    "- Quantidade de Colunas: 3\n",
    "- Ordem: 1x3\n",
    "- Linha"
   ]
  },
  {
   "cell_type": "markdown",
   "id": "5f514ae0",
   "metadata": {
    "hidden": true
   },
   "source": [
    "$$\n",
    "\\begin{bmatrix}\n",
    "1 & 2 & 3 \\cr\n",
    "4 & 5 & 6\n",
    "\\end{bmatrix}\n",
    "$$\n",
    "\n",
    "Características:\n",
    "- Quantidade de Linhas: 2\n",
    "- Quantidade de Colunas: 3\n",
    "- Ordem: 2x3"
   ]
  },
  {
   "cell_type": "markdown",
   "id": "2940d0ed",
   "metadata": {
    "hidden": true
   },
   "source": [
    "$$\n",
    "\\begin{bmatrix}\n",
    "1 & 2 & 3 \\cr\n",
    "4 & 5 & 6 \\cr\n",
    "7 & 8 & 9\n",
    "\\end{bmatrix}\n",
    "$$\n",
    "\n",
    "Características:\n",
    "- Quantidade de Linhas: 3\n",
    "- Quantidade de Colunas: 3\n",
    "- Ordem: 3x3"
   ]
  },
  {
   "cell_type": "markdown",
   "id": "c2fa7f52",
   "metadata": {
    "heading_collapsed": true,
    "hidden": true
   },
   "source": [
    "#### Listas que não representam uma Matriz"
   ]
  },
  {
   "cell_type": "markdown",
   "id": "1cf085ea",
   "metadata": {
    "hidden": true
   },
   "source": [
    "$$\n",
    "\\begin{bmatrix}\n",
    "1 \\cr\n",
    "2 & 3\n",
    "\\end{bmatrix}\n",
    "\\\n",
    "\\begin{bmatrix}\n",
    "1 & 2 \\cr\n",
    "3\n",
    "\\end{bmatrix}\n",
    "\\\n",
    "\\begin{bmatrix}\n",
    "1 & 2 \\cr\n",
    "3 & 4 & 5 \\cr\n",
    "6 & 7 & 8\n",
    "\\end{bmatrix}\n",
    "\\\n",
    "\\begin{bmatrix}\n",
    "1 & 2 & 3\\cr\n",
    "4 & 5 \\cr\n",
    "6 & 7 & 8\n",
    "\\end{bmatrix}\n",
    "\\\n",
    "\\begin{bmatrix}\n",
    "1 & 2 & 3\\cr\n",
    "4 & 5 & 6\\cr\n",
    "7 & 8\n",
    "\\end{bmatrix}\n",
    "$$"
   ]
  },
  {
   "cell_type": "markdown",
   "id": "0d5a1706",
   "metadata": {
    "heading_collapsed": true,
    "hidden": true
   },
   "source": [
    "### Informações de cada Matriz"
   ]
  },
  {
   "cell_type": "markdown",
   "id": "f456722e",
   "metadata": {
    "hidden": true
   },
   "source": [
    "Listas para testar as funções criadas:"
   ]
  },
  {
   "cell_type": "code",
   "execution_count": 14,
   "id": "a2037d6d",
   "metadata": {
    "hidden": true
   },
   "outputs": [],
   "source": [
    "teste2 = [\n",
    "    [[1,0,0],[2,3,0],[4,5,6]],\n",
    "    [[1,0,1],[2,3,0],[4,5,6]],\n",
    "    \n",
    "    [[1,2,3],[0,4,5],[0,0,6]],\n",
    "    [[1,2,3],[0,4,5],[1,0,6]],\n",
    "    \n",
    "    [[1,0,0],[0,2,0],[0,0,3]],\n",
    "    [[1,0,0],[0,1,0],[0,0,1]]\n",
    "]"
   ]
  },
  {
   "cell_type": "markdown",
   "id": "5df80deb",
   "metadata": {
    "heading_collapsed": true,
    "hidden": true
   },
   "source": [
    "#### Classificação"
   ]
  },
  {
   "cell_type": "markdown",
   "id": "8e447b92",
   "metadata": {
    "hidden": true
   },
   "source": [
    "$$\n",
    "\\begin{bmatrix}\n",
    "1 & 0 & 0 \\cr\n",
    "2 & 3 & 0 \\cr\n",
    "4 & 5 & 6\n",
    "\\end{bmatrix}\n",
    "$$\n",
    "\n",
    "Classificação:\n",
    "- Matriz Triangular Inferior"
   ]
  },
  {
   "cell_type": "markdown",
   "id": "9c7a78f9",
   "metadata": {
    "hidden": true
   },
   "source": [
    "$$\n",
    "\\begin{bmatrix}\n",
    "1 & 0 & 1 \\cr\n",
    "2 & 3 & 0 \\cr\n",
    "4 & 5 & 6\n",
    "\\end{bmatrix}\n",
    "$$\n",
    "\n",
    "Classificação:\n",
    "- Matriz Regular"
   ]
  },
  {
   "cell_type": "markdown",
   "id": "6969403e",
   "metadata": {
    "hidden": true
   },
   "source": [
    "$$\n",
    "\\begin{bmatrix}\n",
    "1 & 2 & 3 \\cr\n",
    "0 & 4 & 5 \\cr\n",
    "0 & 0 & 6\n",
    "\\end{bmatrix}\n",
    "$$\n",
    "\n",
    "Classificação:\n",
    "- Matriz Triangular Superior"
   ]
  },
  {
   "cell_type": "markdown",
   "id": "2ab9948a",
   "metadata": {
    "hidden": true
   },
   "source": [
    "$$\n",
    "\\begin{bmatrix}\n",
    "1 & 2 & 3 \\cr\n",
    "0 & 4 & 5 \\cr\n",
    "1 & 0 & 6\n",
    "\\end{bmatrix}\n",
    "$$\n",
    "\n",
    "Classificação:\n",
    "- Matriz Regular"
   ]
  },
  {
   "cell_type": "markdown",
   "id": "494db390",
   "metadata": {
    "hidden": true
   },
   "source": [
    "$$\n",
    "\\begin{bmatrix}\n",
    "1 & 0 & 0 \\cr\n",
    "0 & 2 & 0 \\cr\n",
    "0 & 0 & 3\n",
    "\\end{bmatrix}\n",
    "$$\n",
    "\n",
    "Classificação:\n",
    "- Matriz Diagonal"
   ]
  },
  {
   "cell_type": "markdown",
   "id": "2289d749",
   "metadata": {
    "hidden": true
   },
   "source": [
    "$$\n",
    "\\begin{bmatrix}\n",
    "1 & 0 & 0 \\cr\n",
    "0 & 1 & 0 \\cr\n",
    "0 & 0 & 1\n",
    "\\end{bmatrix}\n",
    "$$\n",
    "\n",
    "Classificação:\n",
    "- Matriz Identidade"
   ]
  },
  {
   "cell_type": "markdown",
   "id": "d226d73b",
   "metadata": {
    "hidden": true
   },
   "source": []
  },
  {
   "cell_type": "markdown",
   "id": "6928140f",
   "metadata": {},
   "source": [
    "## 1. Definição"
   ]
  },
  {
   "cell_type": "markdown",
   "id": "6b9bb84c",
   "metadata": {},
   "source": [
    "Matrizes são um agregado de valores organizados por quantidades variavéis de linhas ($m$) e de colunas ($n$). Podendo serem de números reais ou números complexos. (Obs.: Veremos apenas sobre os números reais). \\\n",
    "Vejamos um exemplo genérico de uma matriz:"
   ]
  },
  {
   "cell_type": "markdown",
   "id": "bcde1d66",
   "metadata": {},
   "source": [
    "<p style=\"text-align:center\">&rarr; Colunas ($n$) &rarr;</p>\n",
    "$$ \n",
    "A_{i,j}= \n",
    "\\begin{bmatrix}\n",
    "a_{1,1} & a_{1,2} & \\ldots & a_{1,n} \\cr\n",
    "a_{2,1} & a_{2,2} & \\ldots & a_{2,n} \\cr\n",
    "\\ldots & \\ldots &  & \\ldots \\cr\n",
    "a_{m,1} & a_{m,2} & \\ldots & a_{m,n}\n",
    "\\end{bmatrix}\n",
    "$$\n",
    "<p style=\"text-align:center\">&darr; Linhas ($m$) &darr;</p>"
   ]
  },
  {
   "cell_type": "markdown",
   "id": "28703046",
   "metadata": {},
   "source": [
    "Onde:\\\n",
    "$A$ - é a matriz, \\\n",
    "$i$ - é um número qualquer que representa uma posição em uma das linhas da matriz, \\\n",
    "$j$ - é um número qualquer que representa uma posição em uma das colunas da matriz, \\\n",
    "$m$ - é a quantidade máxima de valores das linhas da matriz, \\\n",
    "$n$ - é a quantidade máxima de valores das colunas da matriz.\n",
    "\n",
    "Sendo assim:\\\n",
    "$A_{i,j}$ - é um dos valores da matriz posicionado na linha $i$ e coluna $j$, que não excedem a quantidade máxima de linhas $m$ e colunas $n$."
   ]
  },
  {
   "cell_type": "markdown",
   "id": "da5dc9ff",
   "metadata": {},
   "source": [
    "#### Lei da Formação das Matrizes"
   ]
  },
  {
   "cell_type": "markdown",
   "id": "df479dd7",
   "metadata": {},
   "source": [
    "$$\n",
    "A = (a_{i,j})_{m \\times n} | a_{i,j} = f(i,j) \n",
    "$$"
   ]
  },
  {
   "cell_type": "markdown",
   "id": "7905de6a",
   "metadata": {},
   "source": [
    "Podemos ler a Lei da Formação das Matrizes da seguinte forma: a matriz $A$ contém elementos $a$ que estão posicionados na matriz de acordo com os índices $i$ e $j$, na matriz de tamanho $m$ por $n$. Tal qual, cada um desses elementos vai ser igual a função de $i$ e $j$."
   ]
  },
  {
   "cell_type": "markdown",
   "id": "cd34d7db",
   "metadata": {
    "heading_collapsed": true
   },
   "source": [
    "## 2. Características"
   ]
  },
  {
   "cell_type": "markdown",
   "id": "8125f850",
   "metadata": {
    "hidden": true
   },
   "source": [
    "A matriz a seguir parece ser uma ótima escolha para usarmos em nossos estudos."
   ]
  },
  {
   "cell_type": "markdown",
   "id": "b5a3ab42",
   "metadata": {
    "hidden": true
   },
   "source": [
    "$$\n",
    "A = \n",
    "\\begin{bmatrix}\n",
    "1 & 2 & 3 \\cr\n",
    "4 & 5 & 6 \\cr\n",
    "7 & 8 & 9\n",
    "\\end{bmatrix}\n",
    "$$"
   ]
  },
  {
   "cell_type": "markdown",
   "id": "bef8a3fb",
   "metadata": {
    "hidden": true
   },
   "source": [
    "Vamos criar uma lista de valores para definir essa matriz de duas dimensões em linhas de código Python."
   ]
  },
  {
   "cell_type": "code",
   "execution_count": 15,
   "id": "e0beab33",
   "metadata": {
    "hidden": true
   },
   "outputs": [],
   "source": [
    "Matriz_A = [[1,2,3], [4,5,6], [7,8,9]]"
   ]
  },
  {
   "cell_type": "markdown",
   "id": "ac463279",
   "metadata": {
    "hidden": true
   },
   "source": [
    "Veja que *Matriz_A* é uma lista, contendo três outras listas em seu interior. Onde a quantidade de elementos da lista definem a quantidade linhas ($m$) e os tamanhos dos elementos (que também são listas) definem a quantidade de colunas ($n$) em cada linha."
   ]
  },
  {
   "cell_type": "markdown",
   "id": "81eb1fdf",
   "metadata": {
    "hidden": true
   },
   "source": [
    "Com essas informações, podemos criar duas funções que retornam a quantidade máxima de linhas ($m$) e a quantidade máxima de colunas ($n$)."
   ]
  },
  {
   "cell_type": "code",
   "execution_count": 16,
   "id": "21ceeb19",
   "metadata": {
    "hidden": true
   },
   "outputs": [],
   "source": [
    "def quant_max_linhas(matriz):\n",
    "    return len(matriz)\n",
    "\n",
    "def quant_max_colunas(matriz):\n",
    "    return len(matriz[0])"
   ]
  },
  {
   "cell_type": "code",
   "execution_count": 17,
   "id": "997ed7c8",
   "metadata": {
    "hidden": true
   },
   "outputs": [
    {
     "data": {
      "text/plain": [
       "3"
      ]
     },
     "execution_count": 17,
     "metadata": {},
     "output_type": "execute_result"
    }
   ],
   "source": [
    "quant_max_linhas(Matriz_A)"
   ]
  },
  {
   "cell_type": "code",
   "execution_count": 18,
   "id": "e4a6beef",
   "metadata": {
    "hidden": true
   },
   "outputs": [
    {
     "data": {
      "text/plain": [
       "3"
      ]
     },
     "execution_count": 18,
     "metadata": {},
     "output_type": "execute_result"
    }
   ],
   "source": [
    "quant_max_colunas(Matriz_A)"
   ]
  },
  {
   "cell_type": "markdown",
   "id": "b1499feb",
   "metadata": {
    "hidden": true
   },
   "source": [
    "E a partir dessas duas funções, podemos criar mais uma que define a ordem da matriz."
   ]
  },
  {
   "cell_type": "code",
   "execution_count": 19,
   "id": "5f034311",
   "metadata": {
    "hidden": true
   },
   "outputs": [],
   "source": [
    "def ordem(matriz):\n",
    "    qL = quant_max_linhas(matriz)\n",
    "    qC = quant_max_colunas(matriz)\n",
    "    return f\"Matriz de Ordem ({qL}x{qC})\""
   ]
  },
  {
   "cell_type": "code",
   "execution_count": 20,
   "id": "5e7afcd9",
   "metadata": {
    "hidden": true
   },
   "outputs": [
    {
     "data": {
      "text/plain": [
       "'Matriz de Ordem (3x3)'"
      ]
     },
     "execution_count": 20,
     "metadata": {},
     "output_type": "execute_result"
    }
   ],
   "source": [
    "ordem(Matriz_A)"
   ]
  },
  {
   "cell_type": "markdown",
   "id": "227e025d",
   "metadata": {
    "hidden": true
   },
   "source": [
    "Observe que na função *quant_max_colunas* usamos somente o primeiro elemento para definir a quantidade máxima da matriz.\\\n",
    "Pode ocorrer em alguns casos de passarmos um linha com mais de uma coluna do que as demais. Neste caso não possuimos uma matriz, apenas uma lista de valores."
   ]
  },
  {
   "cell_type": "markdown",
   "id": "298c2b2e",
   "metadata": {
    "hidden": true
   },
   "source": [
    "Para que isso não ocorra, vamos definir outra função que retorne um valor verdadeiro para indicar que a lista passada é uma matriz e um valor falso para definir um lista qualquer:"
   ]
  },
  {
   "cell_type": "code",
   "execution_count": 21,
   "id": "d1672357",
   "metadata": {
    "hidden": true
   },
   "outputs": [],
   "source": [
    "def lista_valida(matriz):\n",
    "    n = quant_max_colunas(matriz)\n",
    "    for m in matriz:\n",
    "        if len(m) != n:\n",
    "            return False\n",
    "        else:\n",
    "            pass\n",
    "    return True"
   ]
  },
  {
   "cell_type": "code",
   "execution_count": 22,
   "id": "06be9b7e",
   "metadata": {
    "hidden": true
   },
   "outputs": [
    {
     "data": {
      "text/plain": [
       "True"
      ]
     },
     "execution_count": 22,
     "metadata": {},
     "output_type": "execute_result"
    }
   ],
   "source": [
    "lista_valida(Matriz_A)"
   ]
  },
  {
   "cell_type": "markdown",
   "id": "8108130e",
   "metadata": {
    "hidden": true
   },
   "source": [
    "A lista que possuímos é com certeza uma matriz, mas que tal testarmos com listas que não forma uma matriz. Utilizaremos uma lista presente no Índice 0 (**úteis**), que possuem listas que são e não são matrizes."
   ]
  },
  {
   "cell_type": "code",
   "execution_count": 23,
   "id": "4216bc37",
   "metadata": {
    "hidden": true,
    "scrolled": true
   },
   "outputs": [
    {
     "name": "stdout",
     "output_type": "stream",
     "text": [
      "A lista [[1]],\n",
      "É uma matriz\n",
      "\n",
      "A lista [[1], [2]],\n",
      "É uma matriz\n",
      "\n",
      "A lista [[1, 2]],\n",
      "É uma matriz\n",
      "\n",
      "A lista [[1, 2], [3, 4]],\n",
      "É uma matriz\n",
      "\n",
      "A lista [[1, 2, 3]],\n",
      "É uma matriz\n",
      "\n",
      "A lista [[1, 2, 3], [4, 5, 6]],\n",
      "É uma matriz\n",
      "\n",
      "A lista [[1, 2, 3], [4, 5, 6], [7, 8, 9]],\n",
      "É uma matriz\n",
      "\n",
      "A lista [[1], [2, 3]],\n",
      "Não é uma matriz\n",
      "\n",
      "A lista [[1, 2], [3]],\n",
      "Não é uma matriz\n",
      "\n",
      "A lista [[1, 2], [3, 4, 5], [6, 7, 8]],\n",
      "Não é uma matriz\n",
      "\n",
      "A lista [[1, 2, 3], [4, 5], [6, 7, 8]],\n",
      "Não é uma matriz\n",
      "\n",
      "A lista [[1, 2, 3], [4, 5, 6], [7, 8]],\n",
      "Não é uma matriz\n",
      "\n"
     ]
    },
    {
     "data": {
      "text/plain": [
       "[None, None, None, None, None, None, None, None, None, None, None, None]"
      ]
     },
     "execution_count": 23,
     "metadata": {},
     "output_type": "execute_result"
    }
   ],
   "source": [
    "resultado = map(lista_valida, teste1)\n",
    "resposta = [\"É uma matriz\" if x else \"Não é uma matriz\" for x in resultado]\n",
    "\n",
    "[print(f\"A lista {lista},\\n{resp}\\n\") for (lista, resp) in zip(teste1, resposta)]"
   ]
  },
  {
   "cell_type": "markdown",
   "id": "532bf177",
   "metadata": {
    "hidden": true
   },
   "source": [
    "Agora podemos identificar se uma lista é ou não uma matriz. "
   ]
  },
  {
   "cell_type": "markdown",
   "id": "a61925ef",
   "metadata": {
    "hidden": true
   },
   "source": [
    "A partir de agora veremos algumas classificações de matrizes.\\\n",
    "Podemos chamar uma matriz de ordem $1 \\times n$ de **linha**, pois ela possui apenas uma linha. E chamamos de **coluna** uma matriz que possue apenas uma coluna ($m \\times 1$). Ainda existe um caso especial, caso a matriz possua apenas uma linha e uma coluna ($1 \\times 1$), nessas condições chamamos a matriz de **unitária**."
   ]
  },
  {
   "cell_type": "markdown",
   "id": "e28867e7",
   "metadata": {
    "hidden": true
   },
   "source": [
    "<p style=\"text-align:center;\">\n",
    "Linha - ($1 \\times n$) </br>\n",
    "Coluna - ($m \\times 1$) </br>\n",
    "Unitária - ($1 \\times 1$)\n",
    "</p>"
   ]
  },
  {
   "cell_type": "code",
   "execution_count": 24,
   "id": "13589cef",
   "metadata": {
    "hidden": true
   },
   "outputs": [],
   "source": [
    "def classif_matriz(matriz):\n",
    "    qL = quant_max_linhas(matriz)\n",
    "    qC = quant_max_colunas(matriz)\n",
    "    \n",
    "    if qL == 1 and qC == 1:\n",
    "        return \"Matriz Unitária.\"\n",
    "    elif qL == 1:\n",
    "        return \"Linha.\"\n",
    "    elif qC == 1:\n",
    "        return \"Coluna.\"\n",
    "    else:\n",
    "        return \"Matriz regular.\""
   ]
  },
  {
   "cell_type": "markdown",
   "id": "67215a99",
   "metadata": {
    "hidden": true
   },
   "source": [
    "Testemos em nossa *Matriz_A*."
   ]
  },
  {
   "cell_type": "code",
   "execution_count": 25,
   "id": "9e55df61",
   "metadata": {
    "hidden": true,
    "scrolled": true
   },
   "outputs": [
    {
     "data": {
      "text/plain": [
       "'Matriz regular.'"
      ]
     },
     "execution_count": 25,
     "metadata": {},
     "output_type": "execute_result"
    }
   ],
   "source": [
    "classif_matriz(Matriz_A)"
   ]
  },
  {
   "cell_type": "markdown",
   "id": "85aa6ecd",
   "metadata": {
    "hidden": true
   },
   "source": [
    "Agora em nossa lista de teste (*teste1*)."
   ]
  },
  {
   "cell_type": "code",
   "execution_count": 27,
   "id": "c7fc87b2",
   "metadata": {
    "hidden": true,
    "scrolled": true
   },
   "outputs": [
    {
     "data": {
      "text/plain": [
       "['Matriz Unitária.',\n",
       " 'Coluna.',\n",
       " 'Linha.',\n",
       " 'Matriz regular.',\n",
       " 'Linha.',\n",
       " 'Matriz regular.',\n",
       " 'Matriz regular.',\n",
       " 'Coluna.',\n",
       " 'Matriz regular.',\n",
       " 'Matriz regular.',\n",
       " 'Matriz regular.',\n",
       " 'Matriz regular.']"
      ]
     },
     "execution_count": 27,
     "metadata": {},
     "output_type": "execute_result"
    }
   ],
   "source": [
    "[classif_matriz(x) for x in teste1]"
   ]
  },
  {
   "cell_type": "markdown",
   "id": "29067522",
   "metadata": {
    "hidden": true
   },
   "source": [
    "Também podemos classificá-las se não **retangulares** ou **quadradas** (sim, tem a ver com o formato da matriz)."
   ]
  },
  {
   "cell_type": "markdown",
   "id": "bed00a65",
   "metadata": {
    "hidden": true
   },
   "source": [
    "Matriz Retangular ($m \\neq n$) <br>\n",
    "Matriz Quadrada ($m = n$)"
   ]
  },
  {
   "cell_type": "markdown",
   "id": "eb6a922e",
   "metadata": {
    "hidden": true
   },
   "source": [
    "Criaremos a função para classificá-las."
   ]
  },
  {
   "cell_type": "code",
   "execution_count": 28,
   "id": "382915a6",
   "metadata": {
    "hidden": true
   },
   "outputs": [],
   "source": [
    "def classif_matriz_formato(matriz):\n",
    "    qL = quant_max_linhas(matriz)\n",
    "    qC = quant_max_colunas(matriz)\n",
    "    \n",
    "    if qL == qC:\n",
    "        return \"Matriz Quadrada.\"\n",
    "    else:\n",
    "        return \"Matriz Retangular.\""
   ]
  },
  {
   "cell_type": "code",
   "execution_count": 29,
   "id": "3268751a",
   "metadata": {
    "hidden": true
   },
   "outputs": [
    {
     "data": {
      "text/plain": [
       "'Matriz Quadrada.'"
      ]
     },
     "execution_count": 29,
     "metadata": {},
     "output_type": "execute_result"
    }
   ],
   "source": [
    "classif_matriz_formato(Matriz_A)"
   ]
  },
  {
   "cell_type": "code",
   "execution_count": 30,
   "id": "64bc9eda",
   "metadata": {
    "hidden": true,
    "scrolled": true
   },
   "outputs": [
    {
     "data": {
      "text/plain": [
       "['Matriz Quadrada.',\n",
       " 'Matriz Retangular.',\n",
       " 'Matriz Retangular.',\n",
       " 'Matriz Quadrada.',\n",
       " 'Matriz Retangular.',\n",
       " 'Matriz Retangular.',\n",
       " 'Matriz Quadrada.',\n",
       " 'Matriz Retangular.',\n",
       " 'Matriz Quadrada.',\n",
       " 'Matriz Retangular.',\n",
       " 'Matriz Quadrada.',\n",
       " 'Matriz Quadrada.']"
      ]
     },
     "execution_count": 30,
     "metadata": {},
     "output_type": "execute_result"
    }
   ],
   "source": [
    "[classif_matriz_formato(x) for x in teste1]"
   ]
  },
  {
   "cell_type": "markdown",
   "id": "5dc4137d",
   "metadata": {
    "hidden": true
   },
   "source": [
    "Tem mais classificação? Tem sim hehe... Agora para as Matrizes Quadradas."
   ]
  },
  {
   "cell_type": "markdown",
   "id": "64057574",
   "metadata": {},
   "source": [
    "## 3. Classificação"
   ]
  },
  {
   "cell_type": "markdown",
   "id": "941ae793",
   "metadata": {},
   "source": [
    "As classificações ainda podem ocorrer a partir da organização de seus valores, nulos e não nulos. Veremos:"
   ]
  },
  {
   "cell_type": "markdown",
   "id": "6b8e6042",
   "metadata": {
    "heading_collapsed": true
   },
   "source": [
    "### Matriz Triangular Inferior"
   ]
  },
  {
   "cell_type": "markdown",
   "id": "adc09c55",
   "metadata": {
    "hidden": true
   },
   "source": [
    "* Elementos não nulos abaixo da diagonal;\n",
    "\n",
    "$$\n",
    "A_{3 \\times 3} =\n",
    "\\begin{bmatrix}\n",
    "a_{1,1} & 0 & 0 \\cr\n",
    "a_{2,1} & a_{2,2} & 0 \\cr\n",
    "a_{3,1} & a_{3,2} & a_{3,3}\n",
    "\\end{bmatrix}\n",
    "$$"
   ]
  },
  {
   "cell_type": "markdown",
   "id": "f9bb7b40",
   "metadata": {
    "hidden": true
   },
   "source": [
    "Em seguida a função de classificação:"
   ]
  },
  {
   "cell_type": "code",
   "execution_count": 74,
   "id": "e025bb01",
   "metadata": {
    "hidden": true
   },
   "outputs": [],
   "source": [
    "def matriz_triang_inf(matriz):\n",
    "    qLC = quant_max_linhas(matriz)\n",
    "    for m in range(qLC):\n",
    "        for n in range(qLC):\n",
    "            if m < n and matriz[m][n] == 0:\n",
    "                pass\n",
    "            elif m >= n and matriz[m][n] != 0:\n",
    "                pass\n",
    "            else:\n",
    "                return False\n",
    "            \n",
    "    return True "
   ]
  },
  {
   "cell_type": "code",
   "execution_count": 75,
   "id": "456fa8f1",
   "metadata": {
    "hidden": true
   },
   "outputs": [
    {
     "data": {
      "text/plain": [
       "False"
      ]
     },
     "execution_count": 75,
     "metadata": {},
     "output_type": "execute_result"
    }
   ],
   "source": [
    "matriz_triang_inf(Matriz_A)"
   ]
  },
  {
   "cell_type": "code",
   "execution_count": 85,
   "id": "b093c777",
   "metadata": {
    "hidden": true
   },
   "outputs": [
    {
     "data": {
      "text/plain": [
       "[True, False, False, False]"
      ]
     },
     "execution_count": 85,
     "metadata": {},
     "output_type": "execute_result"
    }
   ],
   "source": [
    "[matriz_triang_inf(x) for x in teste2]"
   ]
  },
  {
   "cell_type": "markdown",
   "id": "bd183472",
   "metadata": {
    "heading_collapsed": true
   },
   "source": [
    "### Matriz Triangular Superior"
   ]
  },
  {
   "cell_type": "markdown",
   "id": "13616be4",
   "metadata": {
    "hidden": true
   },
   "source": [
    "* Elementos não nulos acima da diagonal principal;\n",
    "$$\n",
    "A_{3 \\times 3} = \n",
    "\\begin{bmatrix}\n",
    "a_{1,1} & a_{1,2} & a_{1,3} \\cr\n",
    "0 & a_{2,2} & a_{2,3} \\cr\n",
    "0 & 0 & a_{3,3}\n",
    "\\end{bmatrix}\n",
    "$$"
   ]
  },
  {
   "cell_type": "markdown",
   "id": "ac5caa67",
   "metadata": {
    "hidden": true
   },
   "source": [
    "Em seguida a função de classificação:"
   ]
  },
  {
   "cell_type": "code",
   "execution_count": 86,
   "id": "26132f12",
   "metadata": {
    "hidden": true
   },
   "outputs": [],
   "source": [
    "def matriz_triang_sup(matriz):\n",
    "    qLC = quant_max_linhas(matriz)\n",
    "    for m in range(qLC):\n",
    "        for n in range(qLC):\n",
    "            if m > n and matriz[m][n] == 0:\n",
    "                pass\n",
    "            elif m <= n and matriz[m][n] != 0:\n",
    "                pass\n",
    "            else:\n",
    "                return False\n",
    "            \n",
    "    return True "
   ]
  },
  {
   "cell_type": "code",
   "execution_count": 82,
   "id": "63524779",
   "metadata": {
    "hidden": true,
    "scrolled": true
   },
   "outputs": [
    {
     "data": {
      "text/plain": [
       "False"
      ]
     },
     "execution_count": 82,
     "metadata": {},
     "output_type": "execute_result"
    }
   ],
   "source": [
    "matriz_triang_sup(Matriz_A)"
   ]
  },
  {
   "cell_type": "code",
   "execution_count": 84,
   "id": "20edd3f3",
   "metadata": {
    "hidden": true
   },
   "outputs": [
    {
     "data": {
      "text/plain": [
       "[False, False, True, False]"
      ]
     },
     "execution_count": 84,
     "metadata": {},
     "output_type": "execute_result"
    }
   ],
   "source": [
    "[matriz_triang_sup(x) for x in teste2]"
   ]
  },
  {
   "cell_type": "markdown",
   "id": "bdc0043a",
   "metadata": {},
   "source": [
    "### Matriz Diagonal"
   ]
  },
  {
   "cell_type": "markdown",
   "id": "1a9d3af2",
   "metadata": {},
   "source": [
    "* Elementos não nulos na diagonal principal;\n",
    "\n",
    "$$\n",
    "A_{3 \\times 3} =\n",
    "\\begin{bmatrix}\n",
    "a_{1,1} & 0 & 0 \\cr\n",
    "0 & a_{2,2} & 0 \\cr\n",
    "0 & 0 & a_{3,3}\n",
    "\\end{bmatrix}\n",
    "$$"
   ]
  },
  {
   "cell_type": "markdown",
   "id": "3724a658",
   "metadata": {},
   "source": [
    "Em seguida a função de classificação:"
   ]
  },
  {
   "cell_type": "code",
   "execution_count": 87,
   "id": "b9827053",
   "metadata": {},
   "outputs": [],
   "source": [
    "def matriz_diag(matriz):\n",
    "    qLC = quant_max_linhas(matriz)\n",
    "    for m in range(qLC):\n",
    "        for n in range(qLC):\n",
    "            if m > n and matriz[m][n] == 0:\n",
    "                pass\n",
    "            elif m < n and matriz[m][n] == 0:\n",
    "                pass\n",
    "            elif m == n and matriz[m][n] != 0:\n",
    "                pass\n",
    "            else:\n",
    "                return False\n",
    "            \n",
    "    return True "
   ]
  },
  {
   "cell_type": "code",
   "execution_count": 89,
   "id": "263bb611",
   "metadata": {},
   "outputs": [
    {
     "data": {
      "text/plain": [
       "[False, False, False, False, True]"
      ]
     },
     "execution_count": 89,
     "metadata": {},
     "output_type": "execute_result"
    }
   ],
   "source": [
    "[matriz_diag(x) for x in teste2]"
   ]
  },
  {
   "cell_type": "markdown",
   "id": "ff0fbcbb",
   "metadata": {},
   "source": [
    "### Matriz Identidade"
   ]
  },
  {
   "cell_type": "markdown",
   "id": "666338c8",
   "metadata": {},
   "source": [
    "* Todos os elementos da diagonal principal é igual 1 e os demais igual a 0;\n",
    "\n",
    "$$\n",
    "I_{3 \\times 3} =\n",
    "\\begin{bmatrix}\n",
    "1 & 0 & 0 \\cr\n",
    "0 & 1 & 0 \\cr\n",
    "0 & 0 & 1\n",
    "\\end{bmatrix}\n",
    "$$"
   ]
  },
  {
   "cell_type": "markdown",
   "id": "04043f42",
   "metadata": {},
   "source": [
    "Em seguida a função de classificação:"
   ]
  },
  {
   "cell_type": "code",
   "execution_count": 94,
   "id": "28f68159",
   "metadata": {},
   "outputs": [],
   "source": [
    "def matriz_ident(matriz):\n",
    "    qLC = quant_max_linhas(matriz)\n",
    "    for m in range(qLC):\n",
    "        for n in range(qLC):\n",
    "            if m > n and matriz[m][n] == 0:\n",
    "                pass\n",
    "            elif m < n and matriz[m][n] == 0:\n",
    "                pass\n",
    "            elif m == n and matriz[m][n] == 1:\n",
    "                pass\n",
    "            else:\n",
    "                return False\n",
    "            \n",
    "    return True"
   ]
  },
  {
   "cell_type": "code",
   "execution_count": 95,
   "id": "c925c06d",
   "metadata": {},
   "outputs": [
    {
     "data": {
      "text/plain": [
       "[False, False, False, False, False, True]"
      ]
     },
     "execution_count": 95,
     "metadata": {},
     "output_type": "execute_result"
    }
   ],
   "source": [
    "[matriz_ident(x) for x in teste_quad]"
   ]
  },
  {
   "cell_type": "markdown",
   "id": "2b1b88b7",
   "metadata": {},
   "source": [
    "Veremos no próximo estudo: as Operações de Matrizes."
   ]
  },
  {
   "cell_type": "code",
   "execution_count": null,
   "id": "3915b476",
   "metadata": {},
   "outputs": [],
   "source": []
  }
 ],
 "metadata": {
  "kernelspec": {
   "display_name": "Python 3 (ipykernel)",
   "language": "python",
   "name": "python3"
  },
  "language_info": {
   "codemirror_mode": {
    "name": "ipython",
    "version": 3
   },
   "file_extension": ".py",
   "mimetype": "text/x-python",
   "name": "python",
   "nbconvert_exporter": "python",
   "pygments_lexer": "ipython3",
   "version": "3.9.12"
  }
 },
 "nbformat": 4,
 "nbformat_minor": 5
}
